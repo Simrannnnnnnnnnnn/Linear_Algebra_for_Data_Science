{
  "nbformat": 4,
  "nbformat_minor": 0,
  "metadata": {
    "colab": {
      "provenance": []
    },
    "kernelspec": {
      "name": "python3",
      "display_name": "Python 3"
    },
    "language_info": {
      "name": "python"
    }
  },
  "cells": [
    {
      "cell_type": "code",
      "execution_count": 3,
      "metadata": {
        "colab": {
          "base_uri": "https://localhost:8080/"
        },
        "id": "pW7gvfsjoYO3",
        "outputId": "073b2ab2-99dd-44b7-c393-29b244a7ccd3"
      },
      "outputs": [
        {
          "output_type": "stream",
          "name": "stdout",
          "text": [
            "solution [2.2 3.6]\n"
          ]
        }
      ],
      "source": [
        "#Matrix Method = Ax = B by finding x = A(inverse)B\n",
        "\n",
        "import numpy as np\n",
        "\n",
        "A = np.array([[2,1],[1,3]])\n",
        "\n",
        "B= np.array([8,13])\n",
        "\n",
        "A_inverse = np.linalg.inv(A)\n",
        "x = np.dot(A_inverse, B)\n",
        "\n",
        "print(\"solution\" ,x)"
      ]
    },
    {
      "cell_type": "code",
      "source": [
        "# Gaussian Elimination transform the system into rows echelon form then uses back\n",
        "# substitution to find the solution\n",
        "\n",
        "def gaussian_elimination(A,B):\n",
        "  n = len(B)\n",
        "  augmented_matrix = np.hstack([A,B.reshape(-1,1)])\n",
        "\n",
        "  for i in range(n):\n",
        "    augmented_matrix[i]= augmented_matrix[i]/augmented_matrix[i][i]\n",
        "\n",
        "    for j in range(i+1,n):\n",
        "      factor = augmented_matrix[j,i]\n",
        "      augmented_matrix[j] -= factor * augmented_matrix[i]\n",
        "\n",
        "  x = np.zeros(n)\n",
        "  for i in range(n-1,-1,-1):\n",
        "    x[i] = augmented_matrix[i,-1] - np.dot(augmented_matrix[i,:-1],x)\n",
        "\n",
        "  return x\n",
        "\n",
        "A = np.array([[2,1],[1,3]])\n",
        "B = np.array([8,13])\n",
        "\n",
        "solution = gaussian_elimination(A,B)\n",
        "print(\"solution\",solution)\n"
      ],
      "metadata": {
        "colab": {
          "base_uri": "https://localhost:8080/"
        },
        "id": "LF8TWbwdpd1k",
        "outputId": "f5f86a8c-51ff-48b0-ae3f-e5f9921b291d"
      },
      "execution_count": 5,
      "outputs": [
        {
          "output_type": "stream",
          "name": "stdout",
          "text": [
            "solution [4. 3.]\n"
          ]
        }
      ]
    },
    {
      "cell_type": "code",
      "source": [
        "# Cramer's Rule = uses determinants to solve for each variable :\n",
        "# xi= det(Ai)/det(A)\n",
        "\n",
        "\n",
        "def cramers_rule(A, B):\n",
        "    det_A = np.linalg.det(A)  # Determinant of A\n",
        "    if det_A == 0:\n",
        "        raise ValueError(\"The system has no unique solution (det(A) = 0).\")\n",
        "\n",
        "    n = len(B)\n",
        "    solutions = np.zeros(n)\n",
        "\n",
        "    # Loop through each variable\n",
        "    for i in range(n):\n",
        "        # Create a copy of A and replace the i-th column with B\n",
        "        A_i = np.copy(A)\n",
        "        A_i[:, i] = B\n",
        "        solutions[i] = np.linalg.det(A_i) / det_A\n",
        "\n",
        "    return solutions\n",
        "\n",
        "# Coefficient matrix (A)\n",
        "A = np.array([[2, 1],\n",
        "              [1, 3]])\n",
        "\n",
        "# Constant matrix (B)\n",
        "B = np.array([8, 13])\n",
        "\n",
        "# Solve using Cramer's Rule\n",
        "solution = cramers_rule(A, B)\n",
        "print(\"Solution using Cramer's Rule:\", solution)\n"
      ],
      "metadata": {
        "colab": {
          "base_uri": "https://localhost:8080/"
        },
        "id": "u6LnyjRPqe2V",
        "outputId": "9abf2c8d-d313-4b70-f8d5-0ad3a60194f6"
      },
      "execution_count": 6,
      "outputs": [
        {
          "output_type": "stream",
          "name": "stdout",
          "text": [
            "Solution using Cramer's Rule: [2.2 3.6]\n"
          ]
        }
      ]
    }
  ]
}