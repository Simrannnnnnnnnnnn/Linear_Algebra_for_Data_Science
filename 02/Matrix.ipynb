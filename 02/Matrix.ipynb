{
  "nbformat": 4,
  "nbformat_minor": 0,
  "metadata": {
    "colab": {
      "provenance": []
    },
    "kernelspec": {
      "name": "python3",
      "display_name": "Python 3"
    },
    "language_info": {
      "name": "python"
    }
  },
  "cells": [
    {
      "cell_type": "code",
      "execution_count": 3,
      "metadata": {
        "colab": {
          "base_uri": "https://localhost:8080/"
        },
        "id": "jLrgasham_wV",
        "outputId": "16f33bd3-9845-4cd7-8c24-383fde855c99"
      },
      "outputs": [
        {
          "output_type": "stream",
          "name": "stdout",
          "text": [
            "The Matrix A is\n",
            " [[4 5]\n",
            " [2 6]] \n",
            " And the Matrix B is\n",
            " [[ 9 10]\n",
            " [34 88]]\n",
            "The addition of Matrix A and B results into \n",
            " [[13 15]\n",
            " [36 94]]\n",
            "The subtraction of Matrix A and B results into \n",
            " [[ -5  -5]\n",
            " [-32 -82]]\n",
            "The multiplication of Matrix A and B results into \n",
            " [[ 36  50]\n",
            " [ 68 528]]\n",
            "The Matrix Multiplication of A and B \n",
            " [[206 480]\n",
            " [222 548]]\n",
            "The Transpose of Matrix A is \n",
            " [[4 2]\n",
            " [5 6]]\n",
            "The Determinant of Matrix A is \n",
            " 14.000000000000004\n",
            "\n",
            "Inverse of A\n",
            "\n",
            "[[ 0.42857143 -0.35714286]\n",
            " [-0.14285714  0.28571429]]\n"
          ]
        }
      ],
      "source": [
        "import numpy as np\n",
        "\n",
        "A = np.array ([[4,5],[2,6]])\n",
        "B = np.array([[9,10],[34,88]])\n",
        "\n",
        "print(\"The Matrix A is\\n\", A, \"\\n And the Matrix B is\\n\",B)\n",
        "\n",
        "C = A + B\n",
        "print(\"The addition of Matrix A and B results into \\n\",C)\n",
        "\n",
        "D = A - B\n",
        "print(\"The subtraction of Matrix A and B results into \\n\",D)\n",
        "\n",
        "E = A * B\n",
        "print(\"The multiplication of Matrix A and B results into \\n\",E)\n",
        "\n",
        "F = np.dot(A, B)\n",
        "print(\"The Matrix Multiplication of A and B \\n\",F)\n",
        "\n",
        "G = A.T\n",
        "print(\"The Transpose of Matrix A is \\n\",G)\n",
        "\n",
        "H = np.linalg.det(A)\n",
        "print(\"The Determinant of Matrix A is \\n\",H)\n",
        "\n",
        "if H !=0:\n",
        "  A_inverse = np.linalg.inv(A)\n",
        "  print(\"\\nInverse of A\\n\")\n",
        "  print(A_inverse)\n",
        "else:\n",
        "  print(\"The Matrix is Singular\")\n"
      ]
    },
    {
      "cell_type": "code",
      "source": [],
      "metadata": {
        "id": "vFZBkpXynuCv"
      },
      "execution_count": null,
      "outputs": []
    }
  ]
}