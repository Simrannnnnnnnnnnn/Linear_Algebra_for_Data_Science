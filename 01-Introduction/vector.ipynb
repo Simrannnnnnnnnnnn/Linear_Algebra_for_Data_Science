{
  "nbformat": 4,
  "nbformat_minor": 0,
  "metadata": {
    "colab": {
      "provenance": []
    },
    "kernelspec": {
      "name": "python3",
      "display_name": "Python 3"
    },
    "language_info": {
      "name": "python"
    }
  },
  "cells": [
    {
      "cell_type": "code",
      "execution_count": 1,
      "metadata": {
        "id": "z8AGDVmkdynD"
      },
      "outputs": [],
      "source": [
        "import numpy as np"
      ]
    },
    {
      "cell_type": "code",
      "source": [
        "vector =np.array([1,2,3])\n",
        "print(\"The vector is\",vector)\n",
        "\n",
        "vector1= np.array([2,2,2])\n",
        "\n",
        "vector2 = np.array([4,5,6])\n",
        "\n",
        "result = vector1+vector2\n",
        "\n",
        "print(result)\n"
      ],
      "metadata": {
        "colab": {
          "base_uri": "https://localhost:8080/"
        },
        "id": "AIbHVFACd3tu",
        "outputId": "7df4033e-59e3-4418-a60a-113b804ab83a"
      },
      "execution_count": 3,
      "outputs": [
        {
          "output_type": "stream",
          "name": "stdout",
          "text": [
            "The vector is [1 2 3]\n",
            "[6 7 8]\n"
          ]
        }
      ]
    },
    {
      "cell_type": "code",
      "source": [
        "subtract = vector1-vector2\n",
        "print(\"The result subtraction\",subtract)\n"
      ],
      "metadata": {
        "colab": {
          "base_uri": "https://localhost:8080/"
        },
        "id": "JVmfTIChe2cH",
        "outputId": "1493fea1-f881-4cf2-8034-6154196dc3b5"
      },
      "execution_count": 8,
      "outputs": [
        {
          "output_type": "stream",
          "name": "stdout",
          "text": [
            "The result subtraction [-2 -3 -4]\n"
          ]
        }
      ]
    },
    {
      "cell_type": "code",
      "source": [
        "dot_product = np.dot(vector1,vector2)\n",
        "print(\"Dot Product\", dot_product)\n",
        "\n",
        "cross_product = np.cross(vector1,vector2)\n",
        "print(\"Cross product\",cross_product)"
      ],
      "metadata": {
        "colab": {
          "base_uri": "https://localhost:8080/"
        },
        "id": "vgsY3BwHfO03",
        "outputId": "ede364a8-c695-4806-ee26-432d088a771d"
      },
      "execution_count": 9,
      "outputs": [
        {
          "output_type": "stream",
          "name": "stdout",
          "text": [
            "Dot Product 30\n",
            "Cross product [ 2 -4  2]\n"
          ]
        }
      ]
    },
    {
      "cell_type": "code",
      "source": [
        "scalar = 3\n",
        "scaled_vector = scalar * vector\n",
        "print(\"The result of \",scalar, \"*\" ,vector,\"is\",scaled_vector)\n"
      ],
      "metadata": {
        "colab": {
          "base_uri": "https://localhost:8080/"
        },
        "id": "pzrBlX6aePd1",
        "outputId": "e0aa1784-2056-4a4e-b6a0-85da3772fd6a"
      },
      "execution_count": 4,
      "outputs": [
        {
          "output_type": "stream",
          "name": "stdout",
          "text": [
            "The result of  3 * [1 2 3] is [3 6 9]\n"
          ]
        }
      ]
    },
    {
      "cell_type": "code",
      "source": [
        "magnitude = np.linalg.norm(vector)\n",
        "print(\"The magnitude of \",vector,\"is\",magnitude)"
      ],
      "metadata": {
        "colab": {
          "base_uri": "https://localhost:8080/"
        },
        "id": "92bIMwyqerlC",
        "outputId": "fdbec8a5-e7b1-409e-c221-015706984dfa"
      },
      "execution_count": 5,
      "outputs": [
        {
          "output_type": "stream",
          "name": "stdout",
          "text": [
            "The magnitude of  [1 2 3] is 3.7416573867739413\n"
          ]
        }
      ]
    },
    {
      "cell_type": "code",
      "source": [],
      "metadata": {
        "id": "6zNGo5ISexlV"
      },
      "execution_count": null,
      "outputs": []
    }
  ]
}